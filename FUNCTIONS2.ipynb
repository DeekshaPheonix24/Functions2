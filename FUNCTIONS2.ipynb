{
  "nbformat": 4,
  "nbformat_minor": 0,
  "metadata": {
    "colab": {
      "provenance": []
    },
    "kernelspec": {
      "name": "python3",
      "display_name": "Python 3"
    },
    "language_info": {
      "name": "python"
    }
  },
  "cells": [
    {
      "cell_type": "markdown",
      "source": [
        "# 1. What is the difference between a function and a method in Python?\n",
        "  --> In Python, a function is a block of code that can be called independently, while a method is a function associated with an object (usually a class instance). Methods are called on objects using dot notation, while functions are called directly.\n",
        "\n",
        "  example"
      ],
      "metadata": {
        "id": "lWSDvjeoHfM5"
      }
    },
    {
      "cell_type": "code",
      "source": [
        "# Function\n",
        "def greet(name):\n",
        "    return f\"Hello, {name}\"\n",
        "\n",
        "# Method\n",
        "class Person:\n",
        "    def __init__(self, name):\n",
        "        self.name = name\n",
        "\n",
        "    def greet(self):\n",
        "        return f\"Hello, {self.name}\"\n",
        "\n",
        "person = Person(\"Alice\")\n",
        "print(greet(\"Bob\"))  # Function call\n",
        "print(person.greet())  # Method call\n"
      ],
      "metadata": {
        "id": "diJFMh9JICyc"
      },
      "execution_count": null,
      "outputs": []
    },
    {
      "cell_type": "markdown",
      "source": [
        "Here, greet(\"Bob\") is a function, and person.greet() is a method."
      ],
      "metadata": {
        "id": "aDp5BFWMIeVq"
      }
    },
    {
      "cell_type": "markdown",
      "source": [
        "# 2. Explain the concept of function arguments and parameters in Python?\n",
        "  -->In Python, parameters are variables defined in the function definition, while arguments are the values passed to the function when it is called.\n",
        "\n",
        "Parameters: These are placeholders in the function signature, which specify what kind of data the function expects.\n",
        "Arguments: These are the actual values passed to the function when it is called, and they are used in place of the parameters."
      ],
      "metadata": {
        "id": "8-1z5uZ4Ii-o"
      }
    },
    {
      "cell_type": "code",
      "source": [
        "def greet(name, age):  # 'name' and 'age' are parameters\n",
        "    return f\"Hello {name}, you are {age} years old.\"\n",
        "\n",
        "# 'Alice' and 30 are arguments passed to the function\n",
        "print(greet(\"Alice\", 30))\n"
      ],
      "metadata": {
        "id": "KCnGrgpcI5KS"
      },
      "execution_count": null,
      "outputs": []
    },
    {
      "cell_type": "markdown",
      "source": [
        "In this example:\n",
        "\n",
        "name and age are parameters.\n",
        "\"Alice\" and 30 are arguments."
      ],
      "metadata": {
        "id": "_GQbOmFnJBSM"
      }
    },
    {
      "cell_type": "markdown",
      "source": [
        "#3.  What are the different ways to define and call a function in Python?\n",
        "  --> In Python, there are several ways to define and call a function. Here's a breakdown of the different methods:\n",
        "\n",
        "1. Standard Function Definition\n",
        "Definition: Use the def keyword to define a function.\n",
        "Call: Call the function using its name followed by parentheses.\n",
        "\n"
      ],
      "metadata": {
        "id": "x62cmuSOJES3"
      }
    },
    {
      "cell_type": "code",
      "source": [
        "def greet(name):\n",
        "    return f\"Hello, {name}\"\n",
        "\n",
        "print(greet(\"Alice\"))  # Function call\n"
      ],
      "metadata": {
        "id": "LksSks80JoSX"
      },
      "execution_count": null,
      "outputs": []
    },
    {
      "cell_type": "markdown",
      "source": [
        "2. Function with Default Arguments\n",
        "Definition: You can provide default values for parameters.\n",
        "Call: If no argument is passed, the default value is used."
      ],
      "metadata": {
        "id": "IfXw-eOgJqRv"
      }
    },
    {
      "cell_type": "code",
      "source": [
        "def greet(name=\"Guest\"):\n",
        "    return f\"Hello, {name}\"\n",
        "\n",
        "print(greet())  # Uses default \"Guest\"\n",
        "print(greet(\"Alice\"))  # Uses argument \"Alice\"\n"
      ],
      "metadata": {
        "id": "D2A6kY0JJvnN"
      },
      "execution_count": null,
      "outputs": []
    },
    {
      "cell_type": "markdown",
      "source": [
        "3. Function with Variable-Length Arguments (args)\n",
        "Definition: Use *args to accept a variable number of positional arguments.\n",
        "Call: Pass any number of arguments to the function.\n",
        "python\n",
        "Copy code\n"
      ],
      "metadata": {
        "id": "KNeh3ESNJ0tX"
      }
    },
    {
      "cell_type": "code",
      "source": [
        "def greet(*names):\n",
        "    return \", \".join(names)\n",
        "\n",
        "print(greet(\"Alice\", \"Bob\", \"Charlie\"))  # Accepts multiple arguments\n"
      ],
      "metadata": {
        "id": "zzqqvZhQKVUI"
      },
      "execution_count": null,
      "outputs": []
    },
    {
      "cell_type": "markdown",
      "source": [
        "4. Function with Keyword Arguments (kwargs)\n",
        "Definition: Use **kwargs to accept a variable number of keyword arguments.\n",
        "Call: Pass arguments as key-value pairs."
      ],
      "metadata": {
        "id": "cugjdr9dKYOA"
      }
    },
    {
      "cell_type": "code",
      "source": [
        "def greet(**person_info):\n",
        "    return f\"Hello, {person_info['name']} from {person_info['city']}\"\n",
        "\n",
        "print(greet(name=\"Alice\", city=\"Wonderland\"))  # Keyword arguments\n"
      ],
      "metadata": {
        "id": "xamBeqOEKj40"
      },
      "execution_count": null,
      "outputs": []
    },
    {
      "cell_type": "markdown",
      "source": [
        "5. Lambda Function (Anonymous Function)\n",
        "Definition: A short, anonymous function defined using the lambda keyword.\n",
        "Call: Similar to regular functions, but often used for simple operations.\n"
      ],
      "metadata": {
        "id": "xilM3cuOKnNB"
      }
    },
    {
      "cell_type": "code",
      "source": [
        "square = lambda x: x * x\n",
        "print(square(4))  # Lambda function call\n"
      ],
      "metadata": {
        "id": "gAiGBpv9KuB7"
      },
      "execution_count": null,
      "outputs": []
    },
    {
      "cell_type": "markdown",
      "source": [
        "These are the common ways to define and call functions in Python, offering flexibility for different use cases.\n",
        "\n",
        "\n",
        "\n"
      ],
      "metadata": {
        "id": "BA4n8xuxK1v7"
      }
    },
    {
      "cell_type": "markdown",
      "source": [
        "#4.What is the purpose of the return statement in a Python function?\n",
        "In Python, the return statement is used in a function to send a result back to the caller. It defines what value or object the function should output once it finishes executing. When a function encounters a return statement, it immediately stops execution and returns the specified value to wherever the function was called.\n",
        "\n",
        "Here are key points about the return statement:\n",
        "\n",
        "Returning a Value: If a function contains a return statement followed by an expression, the value of that expression is sent back to the caller. This can be any data type, such as numbers, strings, lists, etc."
      ],
      "metadata": {
        "id": "RfUqjf062e7D"
      }
    },
    {
      "cell_type": "code",
      "source": [
        "def add(a, b):\n",
        "    return a + b\n",
        "\n",
        "result = add(3, 5)  # result will be 8\n"
      ],
      "metadata": {
        "id": "he5RWZp12VMS"
      },
      "execution_count": null,
      "outputs": []
    },
    {
      "cell_type": "markdown",
      "source": [
        "Optional Return: If no return statement is provided, or the function reaches the end without encountering return, the function will implicitly return None."
      ],
      "metadata": {
        "id": "Olgm7P-42rWB"
      }
    },
    {
      "cell_type": "code",
      "source": [
        "def greet(name):\n",
        "    print(f\"Hello, {name}!\")\n",
        "\n",
        "result = greet(\"Alice\")  # result will be None, because there's no return\n"
      ],
      "metadata": {
        "id": "eElQg2nq2-US"
      },
      "execution_count": null,
      "outputs": []
    },
    {
      "cell_type": "markdown",
      "source": [
        "Early Termination: A return statement can be used to exit a function early, skipping any remaining code in the function after the return."
      ],
      "metadata": {
        "id": "MPQvktvK3CuU"
      }
    },
    {
      "cell_type": "code",
      "source": [
        "def find_even_number(numbers):\n",
        "    for num in numbers:\n",
        "        if num % 2 == 0:\n",
        "            return num  # Returns the first even number found\n",
        "    return None  # If no even number is found\n"
      ],
      "metadata": {
        "id": "eEQfpjKv3JKH"
      },
      "execution_count": null,
      "outputs": []
    },
    {
      "cell_type": "markdown",
      "source": [
        "Returning Multiple Values: You can return multiple values from a function by separating them with commas. Python will return a tuple containing all the values."
      ],
      "metadata": {
        "id": "P8IYXOIK3L2N"
      }
    },
    {
      "cell_type": "code",
      "source": [
        "def get_coordinates():\n",
        "    return 4, 5  # Returns a tuple (4, 5)\n",
        "\n",
        "coords = get_coordinates()  # coords will be (4, 5)\n"
      ],
      "metadata": {
        "id": "la1-IGsk3Rwr"
      },
      "execution_count": null,
      "outputs": []
    },
    {
      "cell_type": "markdown",
      "source": [
        "In summary, the return statement serves to provide output from a function, can terminate the function early, and allows returning multiple values as a tuple."
      ],
      "metadata": {
        "id": "JK_A_dsp3W0q"
      }
    },
    {
      "cell_type": "markdown",
      "source": [
        "#5. What are iterators in Python and how do they differ from iterables?\n",
        "In Python, iterators and iterables are related concepts but have distinct characteristics. Let's break them down:\n",
        "\n",
        "1. Iterable:\n",
        "An iterable is any object in Python that can be looped over (iterated over) using a for loop or any other iteration mechanism. An object is considered iterable if it implements the __iter__() method, which returns an iterator. Common iterables include lists, tuples, strings, sets, and dictionaries.\n",
        "\n",
        "Key characteristics of iterables:\n",
        "\n",
        "An iterable can be used in a for loop.\n",
        "It implements the __iter__() method, which returns an iterator object.\n",
        "You can call iter() on an iterable to get its iterator."
      ],
      "metadata": {
        "id": "ELbvcIdr3dg2"
      }
    },
    {
      "cell_type": "markdown",
      "source": [
        "# Examples of iterables:"
      ],
      "metadata": {
        "id": "PNiwMI6m4DBV"
      }
    },
    {
      "cell_type": "code",
      "source": [
        "# Example of a list (which is an iterable)\n",
        "numbers = [1, 2, 3]\n",
        "iterator = iter(numbers)  # Converts the list into an iterator\n",
        "\n",
        "# Example of a string (which is an iterable)\n",
        "word = \"hello\"\n",
        "iterator = iter(word)  # Converts the string into an iterator\n"
      ],
      "metadata": {
        "id": "onVLKMdO4FFA"
      },
      "execution_count": null,
      "outputs": []
    },
    {
      "cell_type": "markdown",
      "source": [
        "2. Iterator:\n",
        "An iterator is an object that represents a stream of data; it knows how to access its elements one at a time. It must implement two methods:\n",
        "\n",
        "__iter__(): This method should return the iterator object itself (i.e., an iterator is also iterable).\n",
        "__next__(): This method returns the next element in the sequence. If there are no more items to return, it raises a StopIteration exception.\n",
        "In other words, an iterator is an object that produces values when asked (via next()), and can be used to traverse through an iterable object.\n",
        "\n",
        "Key characteristics of iterators:\n",
        "\n",
        "They are obtained from iterables using the iter() function.\n",
        "They produce values one by one when you call next() on them.\n",
        "They keep track of the state of the iteration, i.e., where they are in the sequence.\n",
        "Once they are exhausted (i.e., there are no more items to iterate), they raise a StopIteration exception.\n",
        "\n",
        "# Examples of iterators:\n"
      ],
      "metadata": {
        "id": "Qu_foCy24KRq"
      }
    },
    {
      "cell_type": "code",
      "source": [
        "# Example of an iterator\n",
        "numbers = [1, 2, 3]\n",
        "iterator = iter(numbers)\n",
        "\n",
        "# Using the iterator to get the next item\n",
        "print(next(iterator))  # Output: 1\n",
        "print(next(iterator))  # Output: 2\n",
        "print(next(iterator))  # Output: 3\n",
        "print(next(iterator))  # Raises StopIteration because there are no more items\n"
      ],
      "metadata": {
        "id": "lvPmFBy34eUd"
      },
      "execution_count": null,
      "outputs": []
    },
    {
      "cell_type": "markdown",
      "source": [
        "#6 . Explain the concept of generators in Python and how they are defined? in short answer with example\n",
        "Generators in Python:\n",
        "A generator is a type of iterable that generates values lazily, one at a time, only when requested. It doesn't store all the values in memory, making it memory-efficient, especially for large datasets or infinite sequences.\n",
        "\n",
        "How to Define Generators:\n",
        "Generators are defined using either:\n",
        "\n",
        "Generator functions with the yield keyword.\n",
        "Generator expressions, similar to list comprehensions but with () instead of [].\n"
      ],
      "metadata": {
        "id": "zPgqvmHK4gHe"
      }
    },
    {
      "cell_type": "code",
      "source": [
        "def count_up_to(n):\n",
        "    count = 1\n",
        "    while count <= n:\n",
        "        yield count\n",
        "        count += 1\n",
        "\n",
        "gen = count_up_to(3)\n",
        "for num in gen:\n",
        "    print(num)\n"
      ],
      "metadata": {
        "id": "GoJ8FWlc5aez"
      },
      "execution_count": null,
      "outputs": []
    },
    {
      "cell_type": "markdown",
      "source": [
        "#Example of a Generator Expression:"
      ],
      "metadata": {
        "id": "4ElL6qg55jvO"
      }
    },
    {
      "cell_type": "code",
      "source": [
        "gen = (x ** 2 for x in range(3))\n",
        "for num in gen:\n",
        "    print(num)\n"
      ],
      "metadata": {
        "id": "zRTvFRib5d5L"
      },
      "execution_count": null,
      "outputs": []
    },
    {
      "cell_type": "markdown",
      "source": [
        "Key Points:\n",
        "yield produces values one by one and pauses the function's state.\n",
        "Generators are more memory-efficient than lists because they generate values only when needed.\n",
        "\n",
        "\n"
      ],
      "metadata": {
        "id": "Dphze9SR5qdU"
      }
    },
    {
      "cell_type": "markdown",
      "source": [
        "#8. What are the advantages of using generators over regular functions?\n",
        "Advantages of Using Generators Over Regular Functions\n",
        "Memory Efficiency:\n",
        "\n",
        "Generators produce values one at a time (lazily), so they don't store all values in memory.\n",
        "Regular functions (returning lists) store all values in memory at once.\n",
        "Example:\n"
      ],
      "metadata": {
        "id": "YAuKxIm25r6J"
      }
    },
    {
      "cell_type": "code",
      "source": [
        "# Generator\n",
        "def count_up_to(n):\n",
        "    for i in range(n):\n",
        "        yield i\n",
        "\n",
        "gen = count_up_to(10**6)  # No memory overhead\n"
      ],
      "metadata": {
        "id": "Uj-CLSfc9Y5o"
      },
      "execution_count": null,
      "outputs": []
    },
    {
      "cell_type": "markdown",
      "source": [
        "# Regular function:"
      ],
      "metadata": {
        "id": "g9jKCx9N9beZ"
      }
    },
    {
      "cell_type": "code",
      "source": [
        "def count_up_to_list(n):\n",
        "    return [i for i in range(n)]  # Stores all values in memory\n"
      ],
      "metadata": {
        "id": "qBV28mED9ob-"
      },
      "execution_count": null,
      "outputs": []
    },
    {
      "cell_type": "markdown",
      "source": [
        "Lazy Evaluation:\n",
        "\n",
        "Generators compute values only when needed, reducing unnecessary computations.\n",
        "Regular functions compute all values upfront, even if only a few are needed.\n",
        "Example:"
      ],
      "metadata": {
        "id": "afDQv3kx9q7O"
      }
    },
    {
      "cell_type": "code",
      "source": [
        "def squares(n):\n",
        "    for i in range(n):\n",
        "        yield i ** 2\n",
        "\n",
        "gen = squares(5)\n"
      ],
      "metadata": {
        "id": "rTqoOrFw9vk7"
      },
      "execution_count": null,
      "outputs": []
    },
    {
      "cell_type": "markdown",
      "source": [
        "Only computes squares when iterated, instead of all at once.\n",
        "\n",
        "Handling Infinite Sequences:\n",
        "\n",
        "Generators can handle infinite sequences without running out of memory.\n",
        "Regular functions would try to store all values, making them impractical for infinite sequences."
      ],
      "metadata": {
        "id": "yxmfDJgz9y4_"
      }
    },
    {
      "cell_type": "code",
      "source": [
        "def infinite_numbers():\n",
        "    num = 0\n",
        "    while True:\n",
        "        yield num\n",
        "        num += 1\n"
      ],
      "metadata": {
        "id": "PuBrWVBf93Fz"
      },
      "execution_count": null,
      "outputs": []
    },
    {
      "cell_type": "markdown",
      "source": [
        "Efficient Pipelines:\n",
        "\n",
        "Generators can be chained to create efficient pipelines of transformations without storing intermediate results.\n",
        "Regular functions would require storing all intermediate results.\n",
        "Example:\n",
        "\n"
      ],
      "metadata": {
        "id": "i6O_Yi1896TF"
      }
    },
    {
      "cell_type": "code",
      "source": [
        "def even_numbers(n):\n",
        "    for i in range(n):\n",
        "        if i % 2 == 0:\n",
        "            yield i\n",
        "\n",
        "def square_numbers(numbers):\n",
        "    for number in numbers:\n",
        "        yield number ** 2\n",
        "\n",
        "result = square_numbers(even_numbers(10))\n"
      ],
      "metadata": {
        "id": "qEU1DMS--L0s"
      },
      "execution_count": null,
      "outputs": []
    },
    {
      "cell_type": "markdown",
      "source": [
        "Summary:\n",
        "Memory Efficiency: Generators use less memory.\n",
        "Lazy Evaluation: Compute values only when needed.\n",
        "Infinite Sequences: Handle infinite data.\n",
        "Pipelining: Chain operations without storing intermediate data."
      ],
      "metadata": {
        "id": "eLkGMtmq-q1V"
      }
    },
    {
      "cell_type": "markdown",
      "source": [
        "#9. Explain the purpose and usage of the `map()` function in Python.\n",
        "The map() function in Python applies a given function to each item in an iterable (like a list or tuple) and returns an iterator of the results. It allows for efficient, element-wise transformation of data.\n",
        "\n",
        "Syntax:"
      ],
      "metadata": {
        "id": "11NY3gLB-vuO"
      }
    },
    {
      "cell_type": "markdown",
      "source": [
        "function: The function to apply to each element.\n",
        "iterable: The iterable (or multiple iterables) to process.\n",
        "Key Points:\n",
        "Applies a function element-wise: Each item in the iterable is processed by the function.\n",
        "Lazy evaluation: Returns an iterator, not a list, so results are computed on-demand.\n",
        "Supports multiple iterables: You can pass multiple iterables, and the function will be applied to corresponding elements."
      ],
      "metadata": {
        "id": "7lDCNgD0Avs-"
      }
    },
    {
      "cell_type": "code",
      "source": [
        "numbers = [1, 2, 3]\n",
        "squared = map(lambda x: x**2, numbers)\n",
        "print(list(squared))  # Output: [1, 4, 9]\n"
      ],
      "metadata": {
        "id": "84vT25nnAeIb"
      },
      "execution_count": null,
      "outputs": []
    },
    {
      "cell_type": "markdown",
      "source": [
        "map() is useful for transforming data without writing explicit loops."
      ],
      "metadata": {
        "id": "FLQFSHYHA0tU"
      }
    },
    {
      "cell_type": "markdown",
      "source": [
        "# What is the difference between `map()`, `reduce()`, and `filter()` functions in Python?\n",
        "The map(), reduce(), and filter() functions in Python all belong to the category of higher-order functions and are part of the functools module (for reduce()). They are used to perform operations on iterables (like lists or tuples), but they serve different purposes:\n",
        "\n",
        "1. map(): Apply a function to each element of an iterable\n",
        "Purpose: Transforms each item in an iterable (or multiple iterables) using the specified function.\n",
        "Output: Returns a new iterator with the results of applying the function to each element of the iterable.\n",
        "Usage: When you want to transform or modify each element in an iterable."
      ],
      "metadata": {
        "id": "2hXpOeHBBG3m"
      }
    },
    {
      "cell_type": "code",
      "source": [
        "numbers = [1, 2, 3]\n",
        "squared = map(lambda x: x**2, numbers)\n",
        "print(list(squared))  # Output: [1, 4, 9]\n"
      ],
      "metadata": {
        "id": "JFuZid5-C4Yp"
      },
      "execution_count": null,
      "outputs": []
    },
    {
      "cell_type": "markdown",
      "source": [
        "2. reduce(): Apply a function cumulatively to items in an iterable\n",
        "Purpose: Reduces an iterable to a single cumulative value by applying a function that takes two arguments.\n",
        "Output: A single value, which is the result of applying the function cumulatively to the items in the iterable.\n",
        "Usage: When you want to aggregate or combine values from an iterable into a single result (e.g., sum, product, max)."
      ],
      "metadata": {
        "id": "sqg064GNC8-2"
      }
    },
    {
      "cell_type": "code",
      "source": [
        "from functools import reduce\n",
        "reduce(function, iterable, initial=None)\n"
      ],
      "metadata": {
        "id": "pESiL_joDCUl"
      },
      "execution_count": null,
      "outputs": []
    },
    {
      "cell_type": "markdown",
      "source": [
        "The function takes two arguments and is applied cumulatively.\n",
        "initial is an optional starting value."
      ],
      "metadata": {
        "id": "BlHAccSADFWI"
      }
    },
    {
      "cell_type": "code",
      "source": [
        "from functools import reduce\n",
        "\n",
        "numbers = [1, 2, 3, 4]\n",
        "product = reduce(lambda x, y: x * y, numbers)\n",
        "print(product)  # Output: 24 (1 * 2 * 3 * 4)\n"
      ],
      "metadata": {
        "id": "O1V-322BDK_r"
      },
      "execution_count": null,
      "outputs": []
    },
    {
      "cell_type": "markdown",
      "source": [
        "\n",
        "The map(), reduce(), and filter() functions in Python all belong to the category of higher-order functions and are part of the functools module (for reduce()). They are used to perform operations on iterables (like lists or tuples), but they serve different purposes:\n",
        "\n",
        "1. map(): Apply a function to each element of an iterable\n",
        "Purpose: Transforms each item in an iterable (or multiple iterables) using the specified function.\n",
        "Output: Returns a new iterator with the results of applying the function to each element of the iterable.\n",
        "Usage: When you want to transform or modify each element in an iterable.\n",
        "Syntax:\n",
        "\n",
        "python\n",
        "Copy code\n",
        "map(function, iterable, ...)\n",
        "Example:\n",
        "\n",
        "python\n",
        "Copy code\n",
        "numbers = [1, 2, 3]\n",
        "squared = map(lambda x: x**2, numbers)\n",
        "print(list(squared))  # Output: [1, 4, 9]\n",
        "2. reduce(): Apply a function cumulatively to items in an iterable\n",
        "Purpose: Reduces an iterable to a single cumulative value by applying a function that takes two arguments.\n",
        "Output: A single value, which is the result of applying the function cumulatively to the items in the iterable.\n",
        "Usage: When you want to aggregate or combine values from an iterable into a single result (e.g., sum, product, max).\n",
        "Syntax:\n",
        "\n",
        "python\n",
        "Copy code\n",
        "from functools import reduce\n",
        "reduce(function, iterable, initial=None)\n",
        "The function takes two arguments and is applied cumulatively.\n",
        "initial is an optional starting value.\n",
        "Example:\n",
        "\n",
        "python\n",
        "Copy code\n",
        "from functools import reduce\n",
        "\n",
        "numbers = [1, 2, 3, 4]\n",
        "product = reduce(lambda x, y: x * y, numbers)\n",
        "print(product)  # Output: 24 (1 * 2 * 3 * 4)\n",
        "3. filter(): Filter elements based on a condition\n",
        "Purpose: Filters the items in an iterable based on a boolean condition defined by the function. Only items for which the function returns True are included in the result.\n",
        "Output: Returns an iterator containing only those elements that satisfy the condition.\n",
        "Usage: When you want to filter out elements that don’t meet a certain condition.\n",
        "Syntax:\n",
        "\n",
        "python:\n",
        "\n",
        "filter(function, iterable)"
      ],
      "metadata": {
        "id": "AI5LBqJSDQIl"
      }
    },
    {
      "cell_type": "code",
      "source": [
        "numbers = [1, 2, 3, 4, 5, 6]\n",
        "even_numbers = filter(lambda x: x % 2 == 0, numbers)\n",
        "print(list(even_numbers))  # Output: [2, 4, 6]\n"
      ],
      "metadata": {
        "id": "-hNPLkqTDmDH"
      },
      "execution_count": null,
      "outputs": []
    },
    {
      "cell_type": "markdown",
      "source": [
        "#11. Using pen & Paper write the internal mechanism for sum operation using  reduce function on this given\n",
        "list:[47,11,42,13];\n"
      ],
      "metadata": {
        "id": "UaGrCy-sELka"
      }
    },
    {
      "cell_type": "markdown",
      "source": [],
      "metadata": {
        "id": "E72xXZ50EoCJ"
      }
    },
    {
      "cell_type": "markdown",
      "source": [
        "# **Practical questions**"
      ],
      "metadata": {
        "id": "Klc2FBzBLOxr"
      }
    },
    {
      "cell_type": "code",
      "source": [
        "#Write a Python function that takes a list of numbers as input and returns the sum of all even numbers in\n",
        "the list.\n",
        "def sum_even_numbers(numbers):\n",
        "    # Use a generator expression to filter and sum only the even numbers\n",
        "    return sum(num for num in numbers if num % 2 == 0)\n"
      ],
      "metadata": {
        "id": "AarurZlOLjz4"
      },
      "execution_count": null,
      "outputs": []
    },
    {
      "cell_type": "code",
      "source": [
        "numbers = [47, 11, 42, 13, 8, 30, 15]\n",
        "result = sum_even_numbers(numbers)\n",
        "print(result)\n",
        "\n"
      ],
      "metadata": {
        "colab": {
          "base_uri": "https://localhost:8080/",
          "height": 193
        },
        "id": "Hhz282-ALxO7",
        "outputId": "f31d7685-a983-4cb0-af4c-3a949bfbb733"
      },
      "execution_count": null,
      "outputs": [
        {
          "output_type": "error",
          "ename": "NameError",
          "evalue": "name 'sum_even_numbers' is not defined",
          "traceback": [
            "\u001b[0;31m---------------------------------------------------------------------------\u001b[0m",
            "\u001b[0;31mNameError\u001b[0m                                 Traceback (most recent call last)",
            "\u001b[0;32m<ipython-input-3-580a0e1531c1>\u001b[0m in \u001b[0;36m<cell line: 2>\u001b[0;34m()\u001b[0m\n\u001b[1;32m      1\u001b[0m \u001b[0mnumbers\u001b[0m \u001b[0;34m=\u001b[0m \u001b[0;34m[\u001b[0m\u001b[0;36m47\u001b[0m\u001b[0;34m,\u001b[0m \u001b[0;36m11\u001b[0m\u001b[0;34m,\u001b[0m \u001b[0;36m42\u001b[0m\u001b[0;34m,\u001b[0m \u001b[0;36m13\u001b[0m\u001b[0;34m,\u001b[0m \u001b[0;36m8\u001b[0m\u001b[0;34m,\u001b[0m \u001b[0;36m30\u001b[0m\u001b[0;34m,\u001b[0m \u001b[0;36m15\u001b[0m\u001b[0;34m]\u001b[0m\u001b[0;34m\u001b[0m\u001b[0;34m\u001b[0m\u001b[0m\n\u001b[0;32m----> 2\u001b[0;31m \u001b[0mresult\u001b[0m \u001b[0;34m=\u001b[0m \u001b[0msum_even_numbers\u001b[0m\u001b[0;34m(\u001b[0m\u001b[0mnumbers\u001b[0m\u001b[0;34m)\u001b[0m\u001b[0;34m\u001b[0m\u001b[0;34m\u001b[0m\u001b[0m\n\u001b[0m\u001b[1;32m      3\u001b[0m \u001b[0mprint\u001b[0m\u001b[0;34m(\u001b[0m\u001b[0mresult\u001b[0m\u001b[0;34m)\u001b[0m\u001b[0;34m\u001b[0m\u001b[0;34m\u001b[0m\u001b[0m\n\u001b[1;32m      4\u001b[0m \u001b[0;34m\u001b[0m\u001b[0m\n",
            "\u001b[0;31mNameError\u001b[0m: name 'sum_even_numbers' is not defined"
          ]
        }
      ]
    },
    {
      "cell_type": "code",
      "source": [
        "#2. Create a Python function that accepts a string and returns the reverse of that string.\n",
        "def reverse_string(s):\n",
        "    return s[::-1]\n"
      ],
      "metadata": {
        "id": "Ud4OEpjcMcjj"
      },
      "execution_count": null,
      "outputs": []
    },
    {
      "cell_type": "code",
      "source": [
        "#3. Implement a Python function that takes a list of integers and returns a new list containing the squares of each number.\n",
        "def square_numbers(numbers):\n",
        "    return [num ** 2 for num in numbers]\n",
        "\n"
      ],
      "metadata": {
        "id": "XpqjCPgWMp9E"
      },
      "execution_count": null,
      "outputs": []
    },
    {
      "cell_type": "code",
      "source": [
        "#4. Write a Python function that checks if a given number is prime or not from 1 to 200.\n",
        "def is_prime(n):\n",
        "    if n <= 1:\n",
        "        return False  # Numbers less than or equal to 1 are not prime\n",
        "    for i in range(2, int(n**0.5) + 1):  # Check up to the square root of n\n",
        "        if n % i == 0:\n",
        "            return False  # If divisible by any number other than 1 and itself, it's not prime\n",
        "    return True  # If no divisors found, it's prime\n"
      ],
      "metadata": {
        "id": "9p_WniYBNzlJ"
      },
      "execution_count": null,
      "outputs": []
    },
    {
      "cell_type": "code",
      "source": [
        "# Create an iterator class in Python that generates the Fibonacci sequence up to a specified number of terms.\n",
        "class FibonacciIterator:\n",
        "    def __init__(self, n):\n",
        "        \"\"\"\n",
        "        Initialize the Fibonacci sequence iterator.\n",
        "\n",
        "        :param n: The number of terms to generate in the Fibonacci sequence.\n",
        "        \"\"\"\n",
        "        self.n = n  # The number of terms\n",
        "        self.a, self.b = 0, 1  # Starting values for the Fibonacci sequence\n",
        "        self.count = 0  # Counter to track the number of terms generated\n",
        "\n",
        "    def __iter__(self):\n",
        "        \"\"\"Return the iterator object itself.\"\"\"\n",
        "        return self\n",
        "\n",
        "    def __next__(self):\n",
        "        \"\"\"Generate the next Fibonacci number.\"\"\"\n",
        "        if self.count < self.n:\n",
        "            # Return the current Fibonacci number\n",
        "            fib_number = self.a\n",
        "            # Update a and b for the next Fibonacci number\n",
        "            self.a, self.b = self.b, self.a + self.b\n",
        "            self.count += 1\n",
        "            return fib_number\n",
        "        else:\n",
        "            # Raise StopIteration to end the iteration\n",
        "            raise StopIteration\n"
      ],
      "metadata": {
        "id": "87_Ro5dQN_T8"
      },
      "execution_count": null,
      "outputs": []
    },
    {
      "cell_type": "code",
      "source": [
        "#6.  Write a generator function in Python that yields the powers of 2 up to a given exponent\n",
        "def powers_of_two(exponent):\n",
        "    \"\"\"\n",
        "    A generator function that yields the powers of 2 up to 2^exponent.\n",
        "\n",
        "    :param exponent: The maximum exponent to generate powers of 2.\n",
        "    \"\"\"\n",
        "    for i in range(exponent + 1):  # Generate powers from 2^0 to 2^exponent\n",
        "        yield 2 ** i\n"
      ],
      "metadata": {
        "id": "L0cFWxboOYUU"
      },
      "execution_count": null,
      "outputs": []
    },
    {
      "cell_type": "code",
      "source": [
        "#7.  Implement a generator function that reads a file line by line and yields each line as a string.\n",
        "\n",
        "def read_file_lines(file_path):\n",
        "    \"\"\"\n",
        "    A generator function that reads a file line by line and yields each line as a string.\n",
        "\n",
        "    :param file_path: The path to the file to read.\n",
        "    \"\"\"\n",
        "    with open(file_path, 'r') as file:\n",
        "        for line in file:\n",
        "            yield line.strip()  # strip() removes any extra newline characters\n"
      ],
      "metadata": {
        "id": "C8EIrOZOOx_G"
      },
      "execution_count": null,
      "outputs": []
    },
    {
      "cell_type": "code",
      "source": [
        "#8. Use a lambda function in Python to sort a list of tuples based on the second element of each tuple.\n",
        "# List of tuples\n",
        "tuples_list = [(1, 4), (2, 2), (3, 6), (4, 3)]\n",
        "\n",
        "# Sort the list of tuples based on the second element\n",
        "sorted_list = sorted(tuples_list, key=lambda x: x[1])\n",
        "\n",
        "# Print the sorted list\n",
        "print(sorted_list)\n"
      ],
      "metadata": {
        "id": "IJUg7hBcO8Zk"
      },
      "execution_count": null,
      "outputs": []
    },
    {
      "cell_type": "code",
      "source": [
        "# 9:  Write a Python program that uses `map()` to convert a list of temperatures from Celsius to Fahrenheit\n",
        "\n",
        "def celsius_to_fahrenheit(celsius):\n",
        "  return (celsius * 9/5) + 32\n",
        "\n",
        "celsius_temps = [0, 10, 20, 30, 40]\n",
        "fahrenheit_temps = list(map(celsius_to_fahrenheit, celsius_temps))\n",
        "fahrenheit_temps"
      ],
      "metadata": {
        "colab": {
          "base_uri": "https://localhost:8080/"
        },
        "id": "bdbZhLuVPN7t",
        "outputId": "2f79f094-7e47-44dc-bea3-02bb027d6685"
      },
      "execution_count": null,
      "outputs": [
        {
          "output_type": "execute_result",
          "data": {
            "text/plain": [
              "[32.0, 50.0, 68.0, 86.0, 104.0]"
            ]
          },
          "metadata": {},
          "execution_count": 10
        }
      ]
    },
    {
      "cell_type": "code",
      "source": [
        "# 10. Create a Python program that uses `filter()` to remove all the vowels from a given string.\n",
        "\n",
        "def remove_vowels(string):\n",
        "  vowels = \"aeiouAEIOU\"\n",
        "  return \"\".join(filter(lambda char: char not in vowels, string))\n",
        "\n",
        "# Example usage\n",
        "input_string = \"Hello, World!\"\n",
        "result = remove_vowels(input_string)\n",
        "print(result)  # Output: Hll, Wrld!"
      ],
      "metadata": {
        "colab": {
          "base_uri": "https://localhost:8080/"
        },
        "id": "7wUk8U-VPnBO",
        "outputId": "d0c8c863-97af-4090-f29c-fa868752a373"
      },
      "execution_count": null,
      "outputs": [
        {
          "output_type": "stream",
          "name": "stdout",
          "text": [
            "Hll, Wrld!\n"
          ]
        }
      ]
    },
    {
      "cell_type": "code",
      "source": [
        "#Write a Python program, which returns a list with 2-tuples. Each tuple consists of the order number and the product of the price per item and the quantity. The product should be increased by 10,- € if the value of the order is smaller than 100,00 €.\n",
        "\n",
        "# Write a Python program using lambda and map.\n",
        "\n",
        "# List of orders: [Order number, Price per item, Quantity]\n",
        "orders = [\n",
        "    [1, 10, 5],  # Order 1: 10€ per item, 5 items\n",
        "    [2, 20, 3],  # Order 2: 20€ per item, 3 items\n",
        "    [3, 50, 2],  # Order 3: 50€ per item, 2 items\n",
        "    [4, 7, 15]   # Order 4: 7€ per item, 15 items\n",
        "]\n",
        "\n",
        "# Using map() with a lambda function to calculate the totals\n",
        "result = list(map(lambda order: (\n",
        "    order[0],  # Order number\n",
        "    order[1] * order[2] + 10 if order[1] * order[2] < 100 else order[1] * order[2]\n",
        "), orders))\n",
        "\n",
        "# Print the result\n",
        "print(result)\n"
      ],
      "metadata": {
        "id": "KI9UF3RwSCrL",
        "colab": {
          "base_uri": "https://localhost:8080/"
        },
        "outputId": "36398528-243a-45f4-ad77-8f888952069e"
      },
      "execution_count": 15,
      "outputs": [
        {
          "output_type": "stream",
          "name": "stdout",
          "text": [
            "[(1, 60), (2, 70), (3, 100), (4, 105)]\n"
          ]
        }
      ]
    }
  ]
}